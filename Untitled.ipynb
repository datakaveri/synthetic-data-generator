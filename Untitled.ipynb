{
 "cells": [
  {
   "cell_type": "code",
   "execution_count": 12,
   "id": "73f465c2",
   "metadata": {},
   "outputs": [],
   "source": [
    "import pandas as pd\n",
    "import numpy as np\n",
    "import random\n",
    "\n",
    "def laplace_mech(v, sensitivity, epsilon):\n",
    "    return v + np.random.laplace(loc=0, scale=sensitivity / epsilon)\n",
    "\n",
    "old_data = pd.read_csv(\"anes_timeseries_2020_csv_20220210.csv\",usecols=[\"V201510\",\"V201600\",\"V201029\",\"V201033\",\"V201507x\"])\n",
    "data = pd.read_csv(\"anes_timeseries_2020_csv_20220210.csv\",usecols=[\"V201510\",\"V201600\",\"V201029\",\"V201033\",\"V201507x\"])"
   ]
  },
  {
   "cell_type": "code",
   "execution_count": 2,
   "id": "cada04e1",
   "metadata": {},
   "outputs": [],
   "source": [
    "def preprocc(data):\n",
    "\n",
    "    #transforming highest level of education into a y/n\n",
    "\n",
    "    data[\"college\"] = np.where(data[\"V201510\"]>=4,1,0)\n",
    "\n",
    "    #binning ages into: 18-25, 26-34, 35-46, 47-65, 65-79, 80+, and drop NR values\n",
    "\n",
    "    data = data.drop(data[data['V201507x'] == -9].index)\n",
    "    data[\"age_bins\"]=pd.cut(x=data[\"V201507x\"],bins=[17,25,34,46,65,79,81],labels=[1,2,3,4,5,6])\n",
    "\n",
    "    #sex is as it is, 1=M, 2=F, drop NR values\n",
    "\n",
    "    data = data.drop(data[data['V201600'] == -9].index)\n",
    "    data = data.rename(columns={\"V201600\":\"sex\"})\n",
    "\n",
    "    #V201029 contains who the person voted for, V201033 contains who they plan to vote for\n",
    "    #since we are only concerned about modelling a two-way fight, we discard rows where neither of the 2 values are 1/2 (Biden/Trump)\n",
    "\n",
    "    biden_condlist, biden_cholist = [data[\"V201029\"]==1, data[\"V201033\"]==1], [1,1]\n",
    "    trump_condlist, trump_cholist = [data[\"V201029\"]==2, data[\"V201033\"]==2], [1,1]\n",
    "    data[\"vote_biden\"] = np.select(biden_condlist, biden_cholist,default=0)\n",
    "    data[\"vote_trump\"] = np.select(trump_condlist, trump_cholist,default=0)\n",
    "    #having obtained voter choices, we map 1 to Biden and 2 to Trump\n",
    "    voter_choice, vote = [data[\"vote_biden\"]==1,data[\"vote_trump\"]==1], [1,2]\n",
    "    data[\"vote\"] = np.select(voter_choice,vote,default=0)\n",
    "    #removing votes not cast for Biden or Trump\n",
    "    data = data.drop(data[data['vote'] == 0].index)\n",
    "\n",
    "    #removing excess columns\n",
    "    data = data.drop([\"V201510\",\"V201507x\",\"V201029\",\"V201033\",\"vote_biden\",\"vote_trump\"],axis=1)\n",
    "\n",
    "    return data"
   ]
  },
  {
   "cell_type": "code",
   "execution_count": 3,
   "id": "4afa9a5c",
   "metadata": {},
   "outputs": [],
   "source": [
    "new_data = preprocc(data)\n",
    "working_data = new_data"
   ]
  },
  {
   "cell_type": "code",
   "execution_count": 4,
   "id": "a2d5b7d1",
   "metadata": {},
   "outputs": [],
   "source": [
    "sexvals = [1,2]\n",
    "colvals = [0,1]\n",
    "agevals = [1,2,3,4,5,6]\n",
    "agebins = [\"18-25\",\"26-34\",\"35-46\",\"47-65\",\"65-79\",\"80+\"]\n",
    "\n",
    "dp_distr = []\n",
    "\n",
    "for i in sexvals:\n",
    "    for j in colvals:\n",
    "        for k in agevals:\n",
    "            data_strata = working_data[(working_data[\"sex\"]==i) & (working_data[\"college\"]==j) & (working_data[\"age_bins\"]==k)]\n",
    "            num_strata = data_strata.shape[0]\n",
    "            counts = np.array(data_strata.vote.value_counts())\n",
    "            dp_counts = [laplace_mech(c, 1, 1) for c in counts]\n",
    "            dp_probs = dp_counts/np.sum(dp_counts)\n",
    "\n",
    "            dp_distr.append([i,j,agebins[k-1],dp_probs,num_strata])"
   ]
  },
  {
   "cell_type": "code",
   "execution_count": 5,
   "id": "c977902d",
   "metadata": {},
   "outputs": [],
   "source": [
    "def generate_equallylikely(n):\n",
    "    output = []\n",
    "    count = int(n/(len(sexvals)*len(colvals)*len(agevals)))\n",
    "\n",
    "    random.shuffle(dp_distr)\n",
    "\n",
    "    for i in dp_distr[:-1]:\n",
    "        random_votes_stra = np.random.choice([1,2],count,p=i[3])\n",
    "        for j in random_votes_stra:\n",
    "            output.append([i[0],i[1],i[2],j])\n",
    "    \n",
    "\n",
    "    for i in [dp_distr[-1]]:\n",
    "        new_count = n-len(output)\n",
    "        random_votes_stra = np.random.choice([1,2],new_count,p=i[3])\n",
    "        for j in random_votes_stra:\n",
    "            output.append([i[0],i[1],i[2],j])\n",
    "    \n",
    "    random.shuffle(output)\n",
    "    return pd.DataFrame(np.array(output), columns = [\"sex\",\"college\",\"age\",\"vote\"])"
   ]
  },
  {
   "cell_type": "code",
   "execution_count": 6,
   "id": "c1178033",
   "metadata": {},
   "outputs": [],
   "source": [
    "def generate_originalproportions(n):\n",
    "    output = []\n",
    "\n",
    "    random.shuffle(dp_distr)\n",
    "    total = np.array(dp_distr).T[4].sum()\n",
    "    print(total)\n",
    "\n",
    "    for i in dp_distr[:-1]:\n",
    "        count = int(n*i[4]/total)\n",
    "        print(count,n,i[4],total)\n",
    "        random_votes_stra = np.random.choice([1,2],count,p=i[3])\n",
    "        for j in random_votes_stra:\n",
    "            output.append([i[0],i[1],i[2],j])\n",
    "    \n",
    "    for i in [dp_distr[-1]]:\n",
    "        new_count = n-len(output)\n",
    "        #print(new_count,n,i[3],total)\n",
    "        random_votes_stra = np.random.choice([1,2],new_count,p=i[3])\n",
    "        for j in random_votes_stra:\n",
    "            output.append([i[0],i[1],i[2],j])\n",
    "\n",
    "    random.shuffle(output)\n",
    "    return pd.DataFrame(np.array(output), columns = [\"sex\",\"college\",\"age\",\"vote\"])"
   ]
  },
  {
   "cell_type": "code",
   "execution_count": 7,
   "id": "8afea0d4",
   "metadata": {},
   "outputs": [
    {
     "name": "stderr",
     "output_type": "stream",
     "text": [
      "<ipython-input-6-db0e7c30b595>:5: VisibleDeprecationWarning: Creating an ndarray from ragged nested sequences (which is a list-or-tuple of lists-or-tuples-or ndarrays with different lengths or shapes) is deprecated. If you meant to do this, you must specify 'dtype=object' when creating the ndarray.\n",
      "  total = np.array(dp_distr).T[4].sum()\n"
     ]
    },
    {
     "name": "stdout",
     "output_type": "stream",
     "text": [
      "6893\n",
      "2089 50000 288 6893\n",
      "696 50000 96 6893\n",
      "3191 50000 440 6893\n",
      "1929 50000 266 6893\n",
      "863 50000 119 6893\n",
      "2451 50000 338 6893\n",
      "3271 50000 451 6893\n",
      "906 50000 125 6893\n",
      "710 50000 98 6893\n",
      "3460 50000 477 6893\n",
      "5759 50000 794 6893\n",
      "486 50000 67 6893\n",
      "3358 50000 463 6893\n",
      "1581 50000 218 6893\n",
      "616 50000 85 6893\n",
      "1088 50000 150 6893\n",
      "3764 50000 519 6893\n",
      "935 50000 129 6893\n",
      "2727 50000 376 6893\n",
      "1639 50000 226 6893\n",
      "790 50000 109 6893\n",
      "456 50000 63 6893\n",
      "4613 50000 636 6893\n"
     ]
    }
   ],
   "source": [
    "res_ogp = generate_originalproportions(50000)\n",
    "res_eql = generate_equallylikely(50000)"
   ]
  },
  {
   "cell_type": "code",
   "execution_count": 13,
   "id": "ee864c0e",
   "metadata": {
    "scrolled": true
   },
   "outputs": [
    {
     "data": {
      "text/html": [
       "<div>\n",
       "<style scoped>\n",
       "    .dataframe tbody tr th:only-of-type {\n",
       "        vertical-align: middle;\n",
       "    }\n",
       "\n",
       "    .dataframe tbody tr th {\n",
       "        vertical-align: top;\n",
       "    }\n",
       "\n",
       "    .dataframe thead th {\n",
       "        text-align: right;\n",
       "    }\n",
       "</style>\n",
       "<table border=\"1\" class=\"dataframe\">\n",
       "  <thead>\n",
       "    <tr style=\"text-align: right;\">\n",
       "      <th></th>\n",
       "      <th>V201029</th>\n",
       "      <th>V201033</th>\n",
       "      <th>V201507x</th>\n",
       "      <th>V201510</th>\n",
       "      <th>V201600</th>\n",
       "    </tr>\n",
       "  </thead>\n",
       "  <tbody>\n",
       "    <tr>\n",
       "      <th>0</th>\n",
       "      <td>-1</td>\n",
       "      <td>2</td>\n",
       "      <td>46</td>\n",
       "      <td>6</td>\n",
       "      <td>1</td>\n",
       "    </tr>\n",
       "    <tr>\n",
       "      <th>1</th>\n",
       "      <td>-1</td>\n",
       "      <td>3</td>\n",
       "      <td>37</td>\n",
       "      <td>3</td>\n",
       "      <td>2</td>\n",
       "    </tr>\n",
       "    <tr>\n",
       "      <th>2</th>\n",
       "      <td>-1</td>\n",
       "      <td>1</td>\n",
       "      <td>40</td>\n",
       "      <td>2</td>\n",
       "      <td>2</td>\n",
       "    </tr>\n",
       "    <tr>\n",
       "      <th>3</th>\n",
       "      <td>-1</td>\n",
       "      <td>1</td>\n",
       "      <td>41</td>\n",
       "      <td>4</td>\n",
       "      <td>1</td>\n",
       "    </tr>\n",
       "    <tr>\n",
       "      <th>4</th>\n",
       "      <td>-1</td>\n",
       "      <td>2</td>\n",
       "      <td>72</td>\n",
       "      <td>8</td>\n",
       "      <td>1</td>\n",
       "    </tr>\n",
       "  </tbody>\n",
       "</table>\n",
       "</div>"
      ],
      "text/plain": [
       "   V201029  V201033  V201507x  V201510  V201600\n",
       "0       -1        2        46        6        1\n",
       "1       -1        3        37        3        2\n",
       "2       -1        1        40        2        2\n",
       "3       -1        1        41        4        1\n",
       "4       -1        2        72        8        1"
      ]
     },
     "execution_count": 13,
     "metadata": {},
     "output_type": "execute_result"
    }
   ],
   "source": [
    "old_data.head(5)"
   ]
  },
  {
   "cell_type": "code",
   "execution_count": 43,
   "id": "ee55d5a7",
   "metadata": {
    "scrolled": false
   },
   "outputs": [],
   "source": [
    "working_data.head(5)\n",
    "synth_data = []"
   ]
  },
  {
   "cell_type": "code",
   "execution_count": 45,
   "id": "d4927fe0",
   "metadata": {},
   "outputs": [
    {
     "name": "stdout",
     "output_type": "stream",
     "text": [
      "[73 25]\n",
      "[75.29800596105547, 25.507619171088553]\n",
      "[0.74696234 0.25303766]\n",
      "Synthesizing 5 values..\n",
      "(sex, college, age_bins, vote)\n",
      "(2, 1, 1, 1)\n",
      "(2, 1, 1, 1)\n",
      "(2, 1, 1, 1)\n",
      "(2, 1, 1, 2)\n",
      "(2, 1, 1, 1)\n"
     ]
    }
   ],
   "source": [
    "#sex=2: female, college=1: college-educated, age_bins=1: age between 18-25\n",
    "\n",
    "data_strata = working_data[(working_data[\"sex\"]==2) & (working_data[\"college\"]==1) & (working_data[\"age_bins\"]==1)]\n",
    "num_strata = data_strata.shape[0]\n",
    "\n",
    "counts = np.array(data_strata.vote.value_counts())\n",
    "dp_counts = [laplace_mech(c, 1, 1) for c in counts]\n",
    "dp_probs = dp_counts/np.sum(dp_counts)\n",
    "\n",
    "\n",
    "print(counts)\n",
    "print(dp_counts)\n",
    "print(dp_probs)\n",
    "\n",
    "print(\"Synthesizing 5 values..\")\n",
    "for i in range(5):\n",
    "    synth_data.append((2,1,1,np.random.choice([1,2],1,p=dp_probs)[0]))\n",
    "\n",
    "print(\"(sex, college, age_bins, vote)\")\n",
    "for i in range(5):\n",
    "    print(synth_data[i])"
   ]
  },
  {
   "cell_type": "code",
   "execution_count": null,
   "id": "631b298f",
   "metadata": {},
   "outputs": [],
   "source": []
  }
 ],
 "metadata": {
  "kernelspec": {
   "display_name": "Python 3",
   "language": "python",
   "name": "python3"
  },
  "language_info": {
   "codemirror_mode": {
    "name": "ipython",
    "version": 3
   },
   "file_extension": ".py",
   "mimetype": "text/x-python",
   "name": "python",
   "nbconvert_exporter": "python",
   "pygments_lexer": "ipython3",
   "version": "3.8.8"
  }
 },
 "nbformat": 4,
 "nbformat_minor": 5
}
